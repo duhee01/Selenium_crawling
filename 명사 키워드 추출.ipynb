{
 "cells": [
  {
   "cell_type": "code",
   "execution_count": 3,
   "id": "eed3a40d",
   "metadata": {},
   "outputs": [],
   "source": [
    "import numpy as np\n",
    "import pandas as pd\n",
    "import matplotlib.pyplot as plt\n",
    "from tensorflow import keras\n",
    "from konlpy.tag import Kkma\n",
    "\n",
    "from konlpy.tag import Okt\n",
    "from konlpy.tag import Hannanum\n",
    "from konlpy.tag import Komoran\n",
    "from konlpy.tag import Twitter\n",
    "import nltk\n",
    "from nltk import CFG\n",
    "from collections import Counter\n",
    "import csv"
   ]
  },
  {
   "cell_type": "code",
   "execution_count": 8,
   "id": "1e07db8a",
   "metadata": {},
   "outputs": [],
   "source": [
    "f = open(\"./news/news_text.txt\", encoding = 'UTF-8')"
   ]
  },
  {
   "cell_type": "code",
   "execution_count": 9,
   "id": "5dbb3c23",
   "metadata": {},
   "outputs": [
    {
     "data": {
      "text/plain": [
       "' 문 닫는 게 낫다  전기료 인상에 편의점 PC방  울상 TV조선 뉴스 재생 수3 13200 00   01 47자막자막화질 선택 옵션자동 앵커 오늘부터 인상된 전기요금이 적용되죠  전기사용량이 많은 편의점과 PC방 주인은 울상입니다  물가도 가파르게 오르는데다 최저임금 인상에  공공요금까지 오르면서  가게 문을 닫는게 낫다 는 한탄이 나옵니다  이유경 기자입니다   리포트 컴퓨터 200대가 놓여 있는 이 PC방은 한달에 전기요금으로 평균 400만 500만원을 냅니다    에어컨이  10대 정도 있고요  PC방은 열이 많아가지고 24시간 풀로 틀어야 코로나 19 터널을 겨우 빠져나왔는데  전력 사용이 많은 여름철에 전기요금까지 오르면서 걱정이 앞섭니다 임수택   서울 연희동 PC방 매출 증가는 많이 되지 않았고  코로나 끝났지만 비용은 계속 증가하고 있고    이번  전기요금  인상이 영업을 할 지 안 할지 결정할 정도로 타격이 심합니다 24시간 냉난방은 물론 개방형 냉장고 온도를 10도 이하로 유지해야 하는 편의점도 전기사용량이 많기는 마찬가지  현재 점포당 매달 80만원 수준인 전기요금이 이번 인상으로 최대 120만원까지 늘어날 것으로 예상됩니다 A씨   편의점 점주 거리 제한이 해제가 되면서 조금은 매출이 올라오는 상황인데 최저임금이라든가 전기 요금 인상이 저희들한테 발목을 좀 잡지 않겠나 내년 최저임금이 5% 인상된데 이어  전기요금도 오는 10월 추가 인상이 예고되면서 자영업자들의 부담은 더 가중되는 상황입니다 일각에서는 전기요금 부담이 높은 업종 등을 대상으로 계절별로 차등 요금제를 적용해 부담을 낮춰줘야 한다는 주장이 나옵니다 TV조선 이유경입니다  '"
      ]
     },
     "execution_count": 9,
     "metadata": {},
     "output_type": "execute_result"
    }
   ],
   "source": [
    "data = f.read()\n",
    "data"
   ]
  },
  {
   "cell_type": "code",
   "execution_count": 10,
   "id": "163e855c",
   "metadata": {},
   "outputs": [
    {
     "name": "stdout",
     "output_type": "stream",
     "text": [
      "('인상', 8)\n"
     ]
    }
   ],
   "source": [
    "okt = Okt()\n",
    "noun = okt.nouns(data)\n",
    "for i,v in enumerate(noun):\n",
    "    if len(v)<2:\n",
    "        noun.pop(i)\n",
    "\n",
    "count = Counter(noun)\n",
    "f.close()\n",
    "\n",
    "noun_list = count.most_common(1)\n",
    "for v in noun_list:\n",
    "    print(v)\n",
    "    \n",
    "with open(\"noun_list.txt\",\"w\",encoding = \"UTF-8\") as f:\n",
    "    for v in noun_list:\n",
    "        f.write(\" \".join(map(str,v)))\n",
    "        f.write(\"\\n\")\n",
    "with open(\"noun_list.csv\",\"w\",newline ='', encoding = 'euc-kr')as f:\n",
    "    csvw = csv.writer(f)\n",
    "    for v in noun_list:\n",
    "        csvw.writerow(v)"
   ]
  },
  {
   "cell_type": "code",
   "execution_count": 13,
   "id": "38bd1893",
   "metadata": {},
   "outputs": [
    {
     "name": "stdout",
     "output_type": "stream",
     "text": [
      "<map object at 0x000002394742CDF0>\n"
     ]
    }
   ],
   "source": [
    "print(map(str,v))"
   ]
  }
 ],
 "metadata": {
  "kernelspec": {
   "display_name": "Python 3",
   "language": "python",
   "name": "python3"
  },
  "language_info": {
   "codemirror_mode": {
    "name": "ipython",
    "version": 3
   },
   "file_extension": ".py",
   "mimetype": "text/x-python",
   "name": "python",
   "nbconvert_exporter": "python",
   "pygments_lexer": "ipython3",
   "version": "3.8.8"
  }
 },
 "nbformat": 4,
 "nbformat_minor": 5
}
