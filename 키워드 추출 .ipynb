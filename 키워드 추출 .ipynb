{
 "cells": [
  {
   "cell_type": "code",
   "execution_count": null,
   "id": "f89fa127",
   "metadata": {},
   "outputs": [],
   "source": [
    "import numpy as np\n",
    "import pandas as pd\n",
    "from tensorflow import keras\n",
    "from konlpy.tag import Kkma\n",
    "from collections import Counter\n",
    "import csv\n",
    "from konlpy.tag import Okt\n",
    "main_keyword = []\n",
    "keyword_count = []\n",
    "keyword_list = []\n",
    "list1= []\n",
    "list2 = []\n",
    "main = []\n",
    "count = []\n",
    "df = pd.read_csv('C:\\\\Users\\\\user\\\\OneDrive\\\\문서\\\\GitHub\\\\Selenium_crawling\\\\news\\\\1000개 news.csv',encoding='utf-8')\n",
    "df1 = df['content']\n",
    "\n",
    "for i in range(999):\n",
    "    okt = Okt()\n",
    "    noun = okt.nouns(df1[i])\n",
    "    for i,v in enumerate(noun):\n",
    "        if len(v)<2:\n",
    "            noun.pop(i)\n",
    "\n",
    "    count = Counter(noun)\n",
    "    \n",
    "    list1 = list(count.keys())\n",
    "    list2 = list(count.values())\n",
    "    main_keyword.append(list1)\n",
    "    keyword_count.append(list2)\n",
    "    #main_keyword = sum(main_keyword, [])\n",
    "    #keyword_count = sum(keyword_count, [])\n",
    "    main = sum(main_keyword,[])\n",
    "    count = sum(keyword_count, [])\n",
    " \n",
    "    news_df = pd.DataFrame({'main_keyword':main,'keyword_count':count})\n",
    "\n",
    "    news_df.to_csv('C:\\\\Users\\\\user\\\\OneDrive\\\\문서\\\\GitHub\\\\Selenium_crawling\\\\noun_list.csv', index = False,encoding='utf-8-sig')\n",
    "    \n",
    "    "
   ]
  },
  {
   "cell_type": "code",
   "execution_count": null,
   "id": "1c1aeb93",
   "metadata": {},
   "outputs": [],
   "source": []
  },
  {
   "cell_type": "code",
   "execution_count": null,
   "id": "86a177cc",
   "metadata": {},
   "outputs": [],
   "source": []
  },
  {
   "cell_type": "code",
   "execution_count": null,
   "id": "34c6331d",
   "metadata": {},
   "outputs": [],
   "source": []
  },
  {
   "cell_type": "code",
   "execution_count": null,
   "id": "6b4a4a72",
   "metadata": {},
   "outputs": [],
   "source": []
  },
  {
   "cell_type": "code",
   "execution_count": null,
   "id": "f161bbe0",
   "metadata": {},
   "outputs": [],
   "source": []
  }
 ],
 "metadata": {
  "kernelspec": {
   "display_name": "Python 3",
   "language": "python",
   "name": "python3"
  },
  "language_info": {
   "codemirror_mode": {
    "name": "ipython",
    "version": 3
   },
   "file_extension": ".py",
   "mimetype": "text/x-python",
   "name": "python",
   "nbconvert_exporter": "python",
   "pygments_lexer": "ipython3",
   "version": "3.8.8"
  }
 },
 "nbformat": 4,
 "nbformat_minor": 5
}
